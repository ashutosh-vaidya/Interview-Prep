{
 "cells": [
  {
   "cell_type": "code",
   "execution_count": 1,
   "id": "f21edb97",
   "metadata": {},
   "outputs": [],
   "source": [
    "from myList import MyList"
   ]
  },
  {
   "cell_type": "code",
   "execution_count": 2,
   "id": "cab68891",
   "metadata": {},
   "outputs": [],
   "source": [
    "lst = MyList()"
   ]
  },
  {
   "cell_type": "code",
   "execution_count": 3,
   "id": "2bce9f98",
   "metadata": {},
   "outputs": [
    {
     "data": {
      "text/plain": [
       "myList.MyList"
      ]
     },
     "execution_count": 3,
     "metadata": {},
     "output_type": "execute_result"
    }
   ],
   "source": [
    "type(lst)"
   ]
  },
  {
   "cell_type": "code",
   "execution_count": 4,
   "id": "c49499e0",
   "metadata": {},
   "outputs": [
    {
     "data": {
      "text/plain": [
       "0"
      ]
     },
     "execution_count": 4,
     "metadata": {},
     "output_type": "execute_result"
    }
   ],
   "source": [
    "len(lst)"
   ]
  },
  {
   "cell_type": "code",
   "execution_count": 5,
   "id": "72e31a37",
   "metadata": {},
   "outputs": [
    {
     "name": "stdout",
     "output_type": "stream",
     "text": [
      "[]\n"
     ]
    }
   ],
   "source": [
    "print(lst)"
   ]
  },
  {
   "cell_type": "code",
   "execution_count": 6,
   "id": "ad97d18b",
   "metadata": {},
   "outputs": [],
   "source": [
    "lst.append(1)\n",
    "lst.append(\"Hello\")\n",
    "lst.append(3)\n",
    "lst.append(True)\n",
    "lst.append(0.5)"
   ]
  },
  {
   "cell_type": "code",
   "execution_count": 7,
   "id": "aab54962",
   "metadata": {},
   "outputs": [
    {
     "data": {
      "text/plain": [
       "5"
      ]
     },
     "execution_count": 7,
     "metadata": {},
     "output_type": "execute_result"
    }
   ],
   "source": [
    "len(lst)"
   ]
  },
  {
   "cell_type": "code",
   "execution_count": 8,
   "id": "b7ea83de",
   "metadata": {},
   "outputs": [
    {
     "name": "stdout",
     "output_type": "stream",
     "text": [
      "[1,Hello,3,True,0.5]\n"
     ]
    }
   ],
   "source": [
    "print(lst)"
   ]
  },
  {
   "cell_type": "code",
   "execution_count": 9,
   "id": "53f04a37",
   "metadata": {},
   "outputs": [
    {
     "data": {
      "text/plain": [
       "5"
      ]
     },
     "execution_count": 9,
     "metadata": {},
     "output_type": "execute_result"
    }
   ],
   "source": [
    "len(lst)"
   ]
  },
  {
   "cell_type": "code",
   "execution_count": 10,
   "id": "02a1969b",
   "metadata": {},
   "outputs": [
    {
     "data": {
      "text/plain": [
       "3"
      ]
     },
     "execution_count": 10,
     "metadata": {},
     "output_type": "execute_result"
    }
   ],
   "source": [
    "lst[2]"
   ]
  },
  {
   "cell_type": "code",
   "execution_count": 11,
   "id": "865b84b6",
   "metadata": {},
   "outputs": [
    {
     "name": "stdout",
     "output_type": "stream",
     "text": [
      "0.5\n"
     ]
    }
   ],
   "source": [
    "lst.pop()"
   ]
  },
  {
   "cell_type": "code",
   "execution_count": 12,
   "id": "1dfcea94",
   "metadata": {},
   "outputs": [
    {
     "name": "stdout",
     "output_type": "stream",
     "text": [
      "[1,Hello,3,True]\n"
     ]
    }
   ],
   "source": [
    "print(lst)"
   ]
  },
  {
   "cell_type": "code",
   "execution_count": 13,
   "id": "411929d6",
   "metadata": {},
   "outputs": [],
   "source": [
    "lst.clear()"
   ]
  },
  {
   "cell_type": "code",
   "execution_count": 14,
   "id": "66d8e2a8",
   "metadata": {},
   "outputs": [
    {
     "name": "stdout",
     "output_type": "stream",
     "text": [
      "[]\n"
     ]
    }
   ],
   "source": [
    "print(lst)"
   ]
  },
  {
   "cell_type": "code",
   "execution_count": 15,
   "id": "70e661bc",
   "metadata": {},
   "outputs": [
    {
     "data": {
      "text/plain": [
       "0"
      ]
     },
     "execution_count": 15,
     "metadata": {},
     "output_type": "execute_result"
    }
   ],
   "source": [
    "len(lst)"
   ]
  },
  {
   "cell_type": "code",
   "execution_count": 16,
   "id": "d189e9e1",
   "metadata": {},
   "outputs": [],
   "source": [
    "lst.append(1)\n",
    "lst.append(\"Hello\")\n",
    "lst.append(3)\n",
    "lst.append(True)\n",
    "lst.append(0.5)"
   ]
  },
  {
   "cell_type": "code",
   "execution_count": 17,
   "id": "31e640e0",
   "metadata": {},
   "outputs": [
    {
     "name": "stdout",
     "output_type": "stream",
     "text": [
      "[1,Hello,3,True,0.5]\n"
     ]
    }
   ],
   "source": [
    "print(lst)"
   ]
  },
  {
   "cell_type": "code",
   "execution_count": 18,
   "id": "82d49277",
   "metadata": {},
   "outputs": [
    {
     "data": {
      "text/plain": [
       "0"
      ]
     },
     "execution_count": 18,
     "metadata": {},
     "output_type": "execute_result"
    }
   ],
   "source": [
    "lst.index(True)"
   ]
  },
  {
   "cell_type": "code",
   "execution_count": 19,
   "id": "4680dace",
   "metadata": {},
   "outputs": [
    {
     "data": {
      "text/plain": [
       "1"
      ]
     },
     "execution_count": 19,
     "metadata": {},
     "output_type": "execute_result"
    }
   ],
   "source": [
    "lst.index(\"Hello\")"
   ]
  },
  {
   "cell_type": "code",
   "execution_count": 20,
   "id": "01b6e7e5",
   "metadata": {},
   "outputs": [],
   "source": [
    "lst1 = [1, \"hello\", 3, True, 0.5]"
   ]
  },
  {
   "cell_type": "code",
   "execution_count": 21,
   "id": "0077c0a1",
   "metadata": {},
   "outputs": [
    {
     "name": "stdout",
     "output_type": "stream",
     "text": [
      "[1, 'hello', 3, True, 0.5]\n"
     ]
    }
   ],
   "source": [
    "print(lst1)"
   ]
  },
  {
   "cell_type": "code",
   "execution_count": 22,
   "id": "c2ae0d10",
   "metadata": {},
   "outputs": [
    {
     "data": {
      "text/plain": [
       "0"
      ]
     },
     "execution_count": 22,
     "metadata": {},
     "output_type": "execute_result"
    }
   ],
   "source": [
    "lst1.index(True)"
   ]
  },
  {
   "cell_type": "code",
   "execution_count": 23,
   "id": "4163488e",
   "metadata": {},
   "outputs": [
    {
     "ename": "ValueError",
     "evalue": "555 is not in list",
     "output_type": "error",
     "traceback": [
      "\u001b[1;31m---------------------------------------------------------------------------\u001b[0m",
      "\u001b[1;31mValueError\u001b[0m                                Traceback (most recent call last)",
      "Cell \u001b[1;32mIn[23], line 1\u001b[0m\n\u001b[1;32m----> 1\u001b[0m lst\u001b[38;5;241m.\u001b[39mindex(\u001b[38;5;241m555\u001b[39m)\n",
      "File \u001b[1;32mC:\\Dev\\GitHub\\Interview Prep\\DSA\\DynamicList\\myList.py:77\u001b[0m, in \u001b[0;36mMyList.index\u001b[1;34m(self, value)\u001b[0m\n\u001b[0;32m     75\u001b[0m         \u001b[38;5;28;01mreturn\u001b[39;00m i\n\u001b[0;32m     76\u001b[0m \u001b[38;5;28;01melse\u001b[39;00m:\n\u001b[1;32m---> 77\u001b[0m     \u001b[38;5;28;01mraise\u001b[39;00m \u001b[38;5;167;01mValueError\u001b[39;00m(\u001b[38;5;124mf\u001b[39m\u001b[38;5;124m\"\u001b[39m\u001b[38;5;132;01m{\u001b[39;00mvalue\u001b[38;5;132;01m}\u001b[39;00m\u001b[38;5;124m is not in list\u001b[39m\u001b[38;5;124m\"\u001b[39m)\n",
      "\u001b[1;31mValueError\u001b[0m: 555 is not in list"
     ]
    }
   ],
   "source": [
    "lst.index(555)"
   ]
  },
  {
   "cell_type": "code",
   "execution_count": 24,
   "id": "fb4c5e99",
   "metadata": {},
   "outputs": [],
   "source": [
    "lst1.insert(2, \"NEW\")"
   ]
  },
  {
   "cell_type": "code",
   "execution_count": 25,
   "id": "06159f3e",
   "metadata": {},
   "outputs": [
    {
     "data": {
      "text/plain": [
       "[1, 'hello', 'NEW', 3, True, 0.5]"
      ]
     },
     "execution_count": 25,
     "metadata": {},
     "output_type": "execute_result"
    }
   ],
   "source": [
    "lst1"
   ]
  },
  {
   "cell_type": "code",
   "execution_count": 26,
   "id": "5b65a7bc",
   "metadata": {},
   "outputs": [],
   "source": [
    "lst1.insert(300,2)"
   ]
  },
  {
   "cell_type": "code",
   "execution_count": 27,
   "id": "80ba8782",
   "metadata": {},
   "outputs": [
    {
     "data": {
      "text/plain": [
       "[1, 'hello', 'NEW', 3, True, 0.5, 2]"
      ]
     },
     "execution_count": 27,
     "metadata": {},
     "output_type": "execute_result"
    }
   ],
   "source": [
    "lst1"
   ]
  },
  {
   "cell_type": "code",
   "execution_count": 28,
   "id": "3d0f93e1",
   "metadata": {},
   "outputs": [
    {
     "name": "stdout",
     "output_type": "stream",
     "text": [
      "[1,Hello,3,True,0.5]\n"
     ]
    }
   ],
   "source": [
    "print(lst)"
   ]
  },
  {
   "cell_type": "code",
   "execution_count": 29,
   "id": "c7a567e7",
   "metadata": {},
   "outputs": [
    {
     "name": "stdout",
     "output_type": "stream",
     "text": [
      "[1,21,Hello,3,True,0.5]\n"
     ]
    }
   ],
   "source": [
    "lst.insert(1, 21) \n",
    "print(lst)"
   ]
  },
  {
   "cell_type": "code",
   "execution_count": 30,
   "id": "ee62b071",
   "metadata": {},
   "outputs": [
    {
     "name": "stdout",
     "output_type": "stream",
     "text": [
      "[Zeroth index,1,21,Hello,3,True,0.5]\n"
     ]
    }
   ],
   "source": [
    "lst.insert(0,\"Zeroth index\")\n",
    "print(lst)"
   ]
  },
  {
   "cell_type": "code",
   "execution_count": 31,
   "id": "208a3206",
   "metadata": {},
   "outputs": [
    {
     "name": "stdout",
     "output_type": "stream",
     "text": [
      "[Zeroth index,1,21,Hello,3,True,0.5,last index]\n"
     ]
    }
   ],
   "source": [
    "lst.insert(7,\"last index\")\n",
    "print(lst)"
   ]
  },
  {
   "cell_type": "code",
   "execution_count": 32,
   "id": "d6018e1e",
   "metadata": {},
   "outputs": [
    {
     "name": "stdout",
     "output_type": "stream",
     "text": [
      "[Zeroth index,1,21,Hello,3,True,0.5,last index,Large index]\n"
     ]
    }
   ],
   "source": [
    "lst.insert(100, \"Large index\")\n",
    "print(lst)"
   ]
  },
  {
   "cell_type": "code",
   "execution_count": 33,
   "id": "ebcdcdb9",
   "metadata": {},
   "outputs": [
    {
     "data": {
      "text/plain": [
       "9"
      ]
     },
     "execution_count": 33,
     "metadata": {},
     "output_type": "execute_result"
    }
   ],
   "source": [
    "len(lst)"
   ]
  },
  {
   "cell_type": "code",
   "execution_count": 34,
   "id": "771812e9",
   "metadata": {},
   "outputs": [
    {
     "name": "stdout",
     "output_type": "stream",
     "text": [
      "[1,21,Hello,3,True,0.5,last index,Large index]\n"
     ]
    }
   ],
   "source": [
    "del lst[0]\n",
    "print(lst)"
   ]
  },
  {
   "cell_type": "code",
   "execution_count": 35,
   "id": "8596bbb4",
   "metadata": {},
   "outputs": [],
   "source": [
    "del lst[6]"
   ]
  },
  {
   "cell_type": "code",
   "execution_count": 36,
   "id": "f74d5c33",
   "metadata": {},
   "outputs": [
    {
     "name": "stdout",
     "output_type": "stream",
     "text": [
      "[1,21,Hello,3,True,0.5,Large index]\n"
     ]
    }
   ],
   "source": [
    "print(lst)"
   ]
  },
  {
   "cell_type": "code",
   "execution_count": 37,
   "id": "9d3190ae",
   "metadata": {},
   "outputs": [],
   "source": [
    "del lst[100]"
   ]
  },
  {
   "cell_type": "code",
   "execution_count": 38,
   "id": "6c1b447f",
   "metadata": {},
   "outputs": [
    {
     "name": "stdout",
     "output_type": "stream",
     "text": [
      "[1,21,Hello,3,True,0.5,Large index]\n"
     ]
    }
   ],
   "source": [
    "print(lst)"
   ]
  },
  {
   "cell_type": "code",
   "execution_count": 39,
   "id": "3602e303",
   "metadata": {},
   "outputs": [
    {
     "data": {
      "text/plain": [
       "[1, 'hello', 'NEW', 3, True, 0.5, 2]"
      ]
     },
     "execution_count": 39,
     "metadata": {},
     "output_type": "execute_result"
    }
   ],
   "source": [
    "lst1"
   ]
  },
  {
   "cell_type": "code",
   "execution_count": 40,
   "id": "7660b3bf",
   "metadata": {},
   "outputs": [],
   "source": [
    "lst1.remove(3)"
   ]
  },
  {
   "cell_type": "code",
   "execution_count": 41,
   "id": "34f80c5c",
   "metadata": {},
   "outputs": [
    {
     "data": {
      "text/plain": [
       "[1, 'hello', 'NEW', True, 0.5, 2]"
      ]
     },
     "execution_count": 41,
     "metadata": {},
     "output_type": "execute_result"
    }
   ],
   "source": [
    "lst1"
   ]
  },
  {
   "cell_type": "code",
   "execution_count": 42,
   "id": "492cd171",
   "metadata": {},
   "outputs": [
    {
     "ename": "ValueError",
     "evalue": "list.remove(x): x not in list",
     "output_type": "error",
     "traceback": [
      "\u001b[1;31m---------------------------------------------------------------------------\u001b[0m",
      "\u001b[1;31mValueError\u001b[0m                                Traceback (most recent call last)",
      "Cell \u001b[1;32mIn[42], line 1\u001b[0m\n\u001b[1;32m----> 1\u001b[0m lst1\u001b[38;5;241m.\u001b[39mremove(\u001b[38;5;241m100\u001b[39m)\n",
      "\u001b[1;31mValueError\u001b[0m: list.remove(x): x not in list"
     ]
    }
   ],
   "source": [
    "lst1.remove(100)"
   ]
  },
  {
   "cell_type": "code",
   "execution_count": 43,
   "id": "427867dc",
   "metadata": {},
   "outputs": [
    {
     "name": "stdout",
     "output_type": "stream",
     "text": [
      "[1,21,Hello,3,True,0.5,Large index]\n"
     ]
    }
   ],
   "source": [
    "print(lst)"
   ]
  },
  {
   "cell_type": "code",
   "execution_count": 44,
   "id": "1970c3f0",
   "metadata": {},
   "outputs": [
    {
     "name": "stdout",
     "output_type": "stream",
     "text": [
      "[1,Hello,3,True,0.5,Large index]\n"
     ]
    }
   ],
   "source": [
    "lst.remove(21)\n",
    "print(lst)"
   ]
  },
  {
   "cell_type": "code",
   "execution_count": 45,
   "id": "82b08105",
   "metadata": {},
   "outputs": [
    {
     "ename": "ValueError",
     "evalue": "1000 is not in list",
     "output_type": "error",
     "traceback": [
      "\u001b[1;31m---------------------------------------------------------------------------\u001b[0m",
      "\u001b[1;31mValueError\u001b[0m                                Traceback (most recent call last)",
      "Cell \u001b[1;32mIn[45], line 1\u001b[0m\n\u001b[1;32m----> 1\u001b[0m lst\u001b[38;5;241m.\u001b[39mremove(\u001b[38;5;241m1000\u001b[39m)\n",
      "File \u001b[1;32mC:\\Dev\\GitHub\\Interview Prep\\DSA\\DynamicList\\myList.py:114\u001b[0m, in \u001b[0;36mMyList.remove\u001b[1;34m(self, value)\u001b[0m\n\u001b[0;32m    112\u001b[0m \u001b[38;5;28;01mdef\u001b[39;00m \u001b[38;5;21mremove\u001b[39m(\u001b[38;5;28mself\u001b[39m, value):\n\u001b[0;32m    113\u001b[0m     \u001b[38;5;66;03m# 1. Find the index of the value\u001b[39;00m\n\u001b[1;32m--> 114\u001b[0m     index \u001b[38;5;241m=\u001b[39m \u001b[38;5;28mself\u001b[39m\u001b[38;5;241m.\u001b[39mindex(value)\n\u001b[0;32m    115\u001b[0m     \u001b[38;5;28;01mif\u001b[39;00m \u001b[38;5;28mtype\u001b[39m(index) \u001b[38;5;241m==\u001b[39m \u001b[38;5;28mint\u001b[39m:\n\u001b[0;32m    116\u001b[0m         \u001b[38;5;28mself\u001b[39m\u001b[38;5;241m.\u001b[39m\u001b[38;5;21m__delitem__\u001b[39m(index)\n",
      "File \u001b[1;32mC:\\Dev\\GitHub\\Interview Prep\\DSA\\DynamicList\\myList.py:77\u001b[0m, in \u001b[0;36mMyList.index\u001b[1;34m(self, value)\u001b[0m\n\u001b[0;32m     75\u001b[0m         \u001b[38;5;28;01mreturn\u001b[39;00m i\n\u001b[0;32m     76\u001b[0m \u001b[38;5;28;01melse\u001b[39;00m:\n\u001b[1;32m---> 77\u001b[0m     \u001b[38;5;28;01mraise\u001b[39;00m \u001b[38;5;167;01mValueError\u001b[39;00m(\u001b[38;5;124mf\u001b[39m\u001b[38;5;124m\"\u001b[39m\u001b[38;5;132;01m{\u001b[39;00mvalue\u001b[38;5;132;01m}\u001b[39;00m\u001b[38;5;124m is not in list\u001b[39m\u001b[38;5;124m\"\u001b[39m)\n",
      "\u001b[1;31mValueError\u001b[0m: 1000 is not in list"
     ]
    }
   ],
   "source": [
    "lst.remove(1000)"
   ]
  },
  {
   "cell_type": "code",
   "execution_count": 46,
   "id": "bad557bd",
   "metadata": {},
   "outputs": [],
   "source": [
    "lst12 = [\"a\",\"a\",\"a\",\"b\",\"c\",\"d\",1,2,3,4]"
   ]
  },
  {
   "cell_type": "code",
   "execution_count": 47,
   "id": "017cfa3e",
   "metadata": {},
   "outputs": [
    {
     "ename": "TypeError",
     "evalue": "unsupported operand type(s) for +: 'int' and 'str'",
     "output_type": "error",
     "traceback": [
      "\u001b[1;31m---------------------------------------------------------------------------\u001b[0m",
      "\u001b[1;31mTypeError\u001b[0m                                 Traceback (most recent call last)",
      "Cell \u001b[1;32mIn[47], line 1\u001b[0m\n\u001b[1;32m----> 1\u001b[0m \u001b[38;5;28msum\u001b[39m(lst12)\n",
      "\u001b[1;31mTypeError\u001b[0m: unsupported operand type(s) for +: 'int' and 'str'"
     ]
    }
   ],
   "source": [
    "sum(lst12)"
   ]
  },
  {
   "cell_type": "markdown",
   "id": "d8f662fe",
   "metadata": {},
   "source": [
    "### Min Max Sum"
   ]
  },
  {
   "cell_type": "code",
   "execution_count": 48,
   "id": "562e31a1",
   "metadata": {},
   "outputs": [],
   "source": [
    "from myList import MyList"
   ]
  },
  {
   "cell_type": "code",
   "execution_count": 49,
   "id": "bfed6c9b",
   "metadata": {},
   "outputs": [],
   "source": [
    "my_list = MyList()"
   ]
  },
  {
   "cell_type": "code",
   "execution_count": 50,
   "id": "ca1172bf",
   "metadata": {},
   "outputs": [],
   "source": [
    "my_list.append(3)\n",
    "my_list.append(1)\n",
    "my_list.append(4)\n",
    "my_list.append(6)\n",
    "my_list.append(7)\n",
    "my_list.append(2)\n",
    "my_list.append(5)"
   ]
  },
  {
   "cell_type": "code",
   "execution_count": 51,
   "id": "d4468cbf",
   "metadata": {},
   "outputs": [
    {
     "name": "stdout",
     "output_type": "stream",
     "text": [
      "[3,1,4,6,7,2,5]\n"
     ]
    }
   ],
   "source": [
    "print(my_list)"
   ]
  },
  {
   "cell_type": "code",
   "execution_count": 52,
   "id": "8ab8f81a",
   "metadata": {},
   "outputs": [
    {
     "name": "stdout",
     "output_type": "stream",
     "text": [
      "Min Value is : 1\n",
      "Max Value is : 7\n",
      "Total sum is : 28\n"
     ]
    }
   ],
   "source": [
    "print(f\"Min Value is : {min(my_list)}\")\n",
    "print(f\"Max Value is : {max(my_list)}\")\n",
    "print(f\"Total sum is : {sum(my_list)}\")"
   ]
  },
  {
   "cell_type": "code",
   "execution_count": 53,
   "id": "28fd4ece",
   "metadata": {},
   "outputs": [
    {
     "data": {
      "text/plain": [
       "1"
      ]
     },
     "execution_count": 53,
     "metadata": {},
     "output_type": "execute_result"
    }
   ],
   "source": [
    "min(my_list)"
   ]
  },
  {
   "cell_type": "code",
   "execution_count": 54,
   "id": "61f38d08",
   "metadata": {},
   "outputs": [
    {
     "name": "stdout",
     "output_type": "stream",
     "text": [
      "[b,z,A,c]\n",
      "Min Value is : A\n",
      "Max Value is : z\n"
     ]
    }
   ],
   "source": [
    "char_list = MyList()\n",
    "char_list.append(\"b\")\n",
    "char_list.append(\"z\")\n",
    "char_list.append(\"A\")\n",
    "char_list.append(\"c\")\n",
    "print(char_list)\n",
    "print(f\"Min Value is : {min(char_list)}\")\n",
    "print(f\"Max Value is : {max(char_list)}\")"
   ]
  },
  {
   "cell_type": "code",
   "execution_count": null,
   "id": "f489a68e",
   "metadata": {},
   "outputs": [],
   "source": []
  }
 ],
 "metadata": {
  "kernelspec": {
   "display_name": "Python 3 (ipykernel)",
   "language": "python",
   "name": "python3"
  },
  "language_info": {
   "codemirror_mode": {
    "name": "ipython",
    "version": 3
   },
   "file_extension": ".py",
   "mimetype": "text/x-python",
   "name": "python",
   "nbconvert_exporter": "python",
   "pygments_lexer": "ipython3",
   "version": "3.11.3"
  }
 },
 "nbformat": 4,
 "nbformat_minor": 5
}
